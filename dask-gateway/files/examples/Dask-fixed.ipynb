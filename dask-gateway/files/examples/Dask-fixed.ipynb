{
 "cells": [
  {
   "cell_type": "markdown",
   "id": "a2de6613-10c7-4527-b3f2-94fe9b963f59",
   "metadata": {},
   "source": [
    "**Run first section to configure**"
   ]
  },
  {
   "cell_type": "code",
   "execution_count": 1,
   "id": "sought-military",
   "metadata": {},
   "outputs": [
    {
     "name": "stderr",
     "output_type": "stream",
     "text": [
      "/shared/bundle/dask/lib/python3.7/site-packages/dask_gateway/client.py:21: FutureWarning: format_bytes is deprecated and will be removed in a future release. Please use dask.utils.format_bytes instead.\n",
      "  from distributed.utils import LoopRunner, format_bytes\n"
     ]
    },
    {
     "ename": "ModuleNotFoundError",
     "evalue": "No module named 'ipywidgets'",
     "output_type": "error",
     "traceback": [
      "\u001b[0;31m---------------------------------------------------------------------------\u001b[0m",
      "\u001b[0;31mModuleNotFoundError\u001b[0m                       Traceback (most recent call last)",
      "\u001b[0;32m/tmp/ipykernel_20283/1190930186.py\u001b[0m in \u001b[0;36m<module>\u001b[0;34m\u001b[0m\n\u001b[1;32m      1\u001b[0m \u001b[0;32mfrom\u001b[0m \u001b[0mdask_gateway\u001b[0m \u001b[0;32mimport\u001b[0m \u001b[0mGateway\u001b[0m\u001b[0;34m\u001b[0m\u001b[0;34m\u001b[0m\u001b[0m\n\u001b[1;32m      2\u001b[0m \u001b[0;32mimport\u001b[0m \u001b[0mos\u001b[0m\u001b[0;34m\u001b[0m\u001b[0;34m\u001b[0m\u001b[0m\n\u001b[0;32m----> 3\u001b[0;31m \u001b[0;32mimport\u001b[0m \u001b[0mipywidgets\u001b[0m \u001b[0;32mas\u001b[0m \u001b[0mwidgets\u001b[0m\u001b[0;34m\u001b[0m\u001b[0;34m\u001b[0m\u001b[0m\n\u001b[0m\u001b[1;32m      4\u001b[0m \u001b[0;34m\u001b[0m\u001b[0m\n\u001b[1;32m      5\u001b[0m \u001b[0mmaster_ip\u001b[0m \u001b[0;34m=\u001b[0m \u001b[0mstr\u001b[0m\u001b[0;34m(\u001b[0m\u001b[0mos\u001b[0m\u001b[0;34m.\u001b[0m\u001b[0mgetenv\u001b[0m\u001b[0;34m(\u001b[0m\u001b[0;34m'SLURM_WORKING_CLUSTER'\u001b[0m\u001b[0;34m)\u001b[0m\u001b[0;34m.\u001b[0m\u001b[0msplit\u001b[0m\u001b[0;34m(\u001b[0m\u001b[0;34m':'\u001b[0m\u001b[0;34m)\u001b[0m\u001b[0;34m[\u001b[0m\u001b[0;36m1\u001b[0m\u001b[0;34m]\u001b[0m\u001b[0;34m)\u001b[0m\u001b[0;34m\u001b[0m\u001b[0;34m\u001b[0m\u001b[0m\n",
      "\u001b[0;31mModuleNotFoundError\u001b[0m: No module named 'ipywidgets'"
     ]
    }
   ],
   "source": [
    "from dask_gateway import Gateway\n",
    "import os\n",
    "import ipywidgets as widgets\n",
    "\n",
    "master_ip = str(os.getenv('SLURM_WORKING_CLUSTER').split(':')[1])\n",
    "# Please put address of the server you are connected to ( in your browser), port must stay 8000\n",
    "gateway = Gateway(address='http://' + master_ip + ':8000')\n",
    "gateway.list_clusters()\n",
    "options = gateway.cluster_options()\n",
    "cluster = gateway.new_cluster()\n",
    "cluster\n",
    "scale = widgets.IntSlider(description='Scale:')\n",
    "display(scale)"
   ]
  },
  {
   "cell_type": "markdown",
   "id": "bc66707a-abf4-4034-a8fb-2dcebea2f066",
   "metadata": {},
   "source": [
    "**Chose scale for your cluster using slider above. Then run next section to compute**"
   ]
  },
  {
   "cell_type": "code",
   "execution_count": null,
   "id": "straight-liquid",
   "metadata": {},
   "outputs": [],
   "source": [
    "cluster.scale(scale.value)\n",
    "client = cluster.get_client()\n",
    "client"
   ]
  },
  {
   "cell_type": "code",
   "execution_count": 23,
   "id": "peaceful-latter",
   "metadata": {},
   "outputs": [
    {
     "data": {
      "text/plain": [
       "7.779815259432649e-05"
      ]
     },
     "execution_count": 23,
     "metadata": {},
     "output_type": "execute_result"
    }
   ],
   "source": [
    "import dask.array as da\n",
    "a = da.random.normal(size=(30000, 30000), chunks=(500, 500))\n",
    "a.mean().compute()"
   ]
  },
  {
   "cell_type": "markdown",
   "id": "610567a7-b0e0-472c-9b38-a184631227c3",
   "metadata": {},
   "source": [
    "**After all run next section to shutdown your cluster**"
   ]
  },
  {
   "cell_type": "code",
   "execution_count": 24,
   "id": "capable-taylor",
   "metadata": {},
   "outputs": [],
   "source": [
    "cluster.shutdown()"
   ]
  }
 ],
 "metadata": {
  "kernelspec": {
   "display_name": "dask",
   "language": "python",
   "name": "dask"
  },
  "language_info": {
   "codemirror_mode": {
    "name": "ipython",
    "version": 3
   },
   "file_extension": ".py",
   "mimetype": "text/x-python",
   "name": "python",
   "nbconvert_exporter": "python",
   "pygments_lexer": "ipython3",
   "version": "3.7.10"
  }
 },
 "nbformat": 4,
 "nbformat_minor": 5
}
